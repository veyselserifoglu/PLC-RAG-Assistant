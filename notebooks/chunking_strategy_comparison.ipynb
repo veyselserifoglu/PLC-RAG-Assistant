{
 "cells": [
  {
   "cell_type": "markdown",
   "id": "bc045c52",
   "metadata": {},
   "source": [
    "# PLC Chunking Strategies Comparison\n",
    "\n",
    "This notebook allows you to experiment with and compare different chunking strategies for PLC code files (e.g., Structured Text, Instruction List) and CODESYS documentation. Add your own test files and documents in the placeholders below."
   ]
  },
  {
   "cell_type": "code",
   "execution_count": null,
   "id": "9aac0944",
   "metadata": {},
   "outputs": [],
   "source": [
    "# Import required libraries\n",
    "import re\n",
    "from typing import List"
   ]
  },
  {
   "cell_type": "markdown",
   "id": "84d2b7c6",
   "metadata": {},
   "source": [
    "## 1. Load Test Subjects\n",
    "\n",
    "Add your PLC code samples and CODESYS documentation excerpts here for testing. Replace the placeholders with your actual data."
   ]
  },
  {
   "cell_type": "code",
   "execution_count": null,
   "id": "ad3e9ddf",
   "metadata": {},
   "outputs": [],
   "source": [
    "# Placeholder for PLC code samples (Structured Text, Instruction List, etc.)\n",
    "plc_code_samples = [\n",
    "    # Example: \"PROGRAM Main\\nVAR\\n    MotorStart : BOOL;\\nEND_VAR\\n...\",\n",
    "]\n",
    "\n",
    "# Placeholder for CODESYS documentation excerpts\n",
    "codesys_docs = [\n",
    "    # Example: \"The TON (Timer On-Delay) function block is used to create a time delay before an output is set to TRUE...\",\n",
    "]"
   ]
  },
  {
   "cell_type": "markdown",
   "id": "f86e4d32",
   "metadata": {},
   "source": [
    "## 2. Define Chunking Strategies\n",
    "\n",
    "We will implement and compare several chunking strategies:\n",
    "- Fixed-size chunking (with and without overlap)\n",
    "- Code-aware chunking (e.g., by function/block for PLC code)\n",
    "- Recursive character/text splitting (for documentation)"
   ]
  },
  {
   "cell_type": "code",
   "execution_count": null,
   "id": "150db1ce",
   "metadata": {},
   "outputs": [],
   "source": [
    "def fixed_size_chunking(text: str, chunk_size: int = 200, overlap: int = 50) -> List[str]:\n",
    "    \"\"\"Split text into fixed-size chunks with optional overlap.\"\"\"\n",
    "    chunks = []\n",
    "    start = 0\n",
    "    while start < len(text):\n",
    "        end = min(start + chunk_size, len(text))\n",
    "        chunks.append(text[start:end])\n",
    "        start += chunk_size - overlap\n",
    "    return chunks\n",
    "\n",
    "def code_aware_chunking_st(text: str) -> List[str]:\n",
    "    \"\"\"Chunk Structured Text code by function or program blocks.\"\"\"\n",
    "    # Simple regex for FUNCTION, PROGRAM, or METHOD blocks\n",
    "    pattern = r\"(?=\\b(FUNCTION|PROGRAM|METHOD)\\b)\"\n",
    "    blocks = re.split(pattern, text, flags=re.IGNORECASE)\n",
    "    # Re-attach block headers\n",
    "    chunks = []\n",
    "    for i in range(1, len(blocks), 2):\n",
    "        header = blocks[i]\n",
    "        body = blocks[i+1] if i+1 < len(blocks) else ''\n",
    "        chunks.append(header + body)\n",
    "    return [c.strip() for c in chunks if c.strip()]\n",
    "\n",
    "def recursive_text_split(text: str, max_length: int = 300) -> List[str]:\n",
    "    \"\"\"Recursively split text by paragraphs, then sentences, then characters.\"\"\"\n",
    "    if len(text) <= max_length:\n",
    "        return [text]\n",
    "    # Try splitting by paragraphs\n",
    "    paras = text.split('\\n\\n')\n",
    "    if len(paras) > 1:\n",
    "        return sum([recursive_text_split(p, max_length) for p in paras], [])\n",
    "    # Try splitting by sentences\n",
    "    sentences = re.split(r'(?<=[.!?]) +', text)\n",
    "    if len(sentences) > 1:\n",
    "        chunks = []\n",
    "        current = ''\n",
    "        for s in sentences:\n",
    "            if len(current) + len(s) < max_length:\n",
    "                current += ' ' + s if current else s\n",
    "            else:\n",
    "                if current:\n",
    "                    chunks.append(current)\n",
    "                current = s\n",
    "        if current:\n",
    "            chunks.append(current)\n",
    "        return chunks\n",
    "    # Fallback: character split\n",
    "    return fixed_size_chunking(text, chunk_size=max_length, overlap=0)"
   ]
  },
  {
   "cell_type": "markdown",
   "id": "52dd6754",
   "metadata": {},
   "source": [
    "## 3. Apply Chunking Strategies to Test Subjects\n",
    "\n",
    "This section applies each chunking method to your test PLC code and documentation. Review the output to compare chunk boundaries and content."
   ]
  },
  {
   "cell_type": "code",
   "execution_count": null,
   "id": "2e6a2230",
   "metadata": {},
   "outputs": [],
   "source": [
    "# Example: Apply to first PLC code sample (if available)\n",
    "if plc_code_samples:\n",
    "    print(\"--- Fixed-size chunking (PLC code) ---\")\n",
    "    for i, chunk in enumerate(fixed_size_chunking(plc_code_samples[0])):\n",
    "        print(f\"Chunk {i+1}:\\n{chunk}\\n---\")\n",
    "    print(\"\\n--- Code-aware chunking (Structured Text) ---\")\n",
    "    for i, chunk in enumerate(code_aware_chunking_st(plc_code_samples[0])):\n",
    "        print(f\"Chunk {i+1}:\\n{chunk}\\n---\")\n",
    "else:\n",
    "    print(\"No PLC code samples provided.\")\n",
    "\n",
    "# Example: Apply to first CODESYS doc excerpt (if available)\n",
    "if codesys_docs:\n",
    "    print(\"\\n--- Fixed-size chunking (CODESYS doc) ---\")\n",
    "    for i, chunk in enumerate(fixed_size_chunking(codesys_docs[0])):\n",
    "        print(f\"Chunk {i+1}:\\n{chunk}\\n---\")\n",
    "    print(\"\\n--- Recursive text split (CODESYS doc) ---\")\n",
    "    for i, chunk in enumerate(recursive_text_split(codesys_docs[0])):\n",
    "        print(f\"Chunk {i+1}:\\n{chunk}\\n---\")\n",
    "else:\n",
    "    print(\"No CODESYS documentation excerpts provided.\")"
   ]
  },
  {
   "cell_type": "markdown",
   "id": "0544bb10",
   "metadata": {},
   "source": [
    "## 4. Compare and Evaluate\n",
    "\n",
    "- Review the output chunks for each method and test subject.\n",
    "- Consider: Are code blocks preserved? Are documentation chunks semantically meaningful?\n",
    "- Add your own notes and observations below."
   ]
  }
 ],
 "metadata": {
  "language_info": {
   "name": "python"
  }
 },
 "nbformat": 4,
 "nbformat_minor": 5
}
